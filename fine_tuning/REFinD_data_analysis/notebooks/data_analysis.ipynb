{
 "cells": [
  {
   "cell_type": "markdown",
   "id": "c241bbca-ea02-4b3d-a198-8348442233ca",
   "metadata": {},
   "source": [
    "## 1. Installation and Setup"
   ]
  },
  {
   "cell_type": "code",
   "execution_count": 2,
   "id": "79bd8c46-9604-493e-a32a-6f92e4436132",
   "metadata": {},
   "outputs": [],
   "source": [
    "#!pip install datasets"
   ]
  },
  {
   "cell_type": "code",
   "execution_count": 19,
   "id": "866bb4cf-d23b-4861-b7c5-a4ecf7221058",
   "metadata": {},
   "outputs": [],
   "source": [
    "import json\n",
    "import os\n",
    "import instructor\n",
    "import matplotlib.pyplot as plt\n",
    "import pandas as pd\n",
    "from datasets import Dataset, DatasetDict\n",
    "from tqdm import tqdm\n",
    "from openai import OpenAI\n",
    "from os import environ as env\n",
    "from dotenv import load_dotenv"
   ]
  },
  {
   "cell_type": "code",
   "execution_count": 21,
   "id": "13ddb30e-faa8-4bf7-ba0a-d4db8019ec6b",
   "metadata": {},
   "outputs": [],
   "source": [
    "# # Load the environment variables from the .env file\n",
    "# load_dotenv()\n",
    "\n",
    "# API_KEY = env['OPEN_AI_KEY']\n",
    "# PATCHED_OPENAI_CLIENT = instructor.patch(\n",
    "#     OpenAI(api_key=API_KEY), mode=instructor.Mode.FUNCTIONS\n",
    "# ) \n",
    "# PATCHED_OPENAI_CLIENT.max_retries = 5"
   ]
  },
  {
   "cell_type": "markdown",
   "id": "e6632bd9-50c8-4c17-b0fc-851caae0278c",
   "metadata": {},
   "source": [
    "## 2. Loading the Dataset"
   ]
  },
  {
   "cell_type": "code",
   "execution_count": 4,
   "id": "b293bcf9-c5cf-45b4-bb6a-4606a59d3e90",
   "metadata": {},
   "outputs": [],
   "source": [
    "def load_dataset_from_json(file_path):\n",
    "    with open(file_path, 'r', encoding='utf-8') as file:\n",
    "        data = json.load(file)\n",
    "        return data\n",
    "\n",
    "def create_hf_dataset(dataset_dir):\n",
    "    train_file_path = os.path.join(dataset_dir, 'train_refind_official.json')\n",
    "    dev_file_path = os.path.join(dataset_dir, 'dev_refind_official.json')\n",
    "    test_file_path = os.path.join(dataset_dir, 'test_refind_official.json')\n",
    "    \n",
    "    train_data = pd.DataFrame(load_dataset_from_json(train_file_path))\n",
    "    dev_data = pd.DataFrame(load_dataset_from_json(dev_file_path))\n",
    "    test_data = pd.DataFrame(load_dataset_from_json(test_file_path))\n",
    "    \n",
    "    train_dataset = Dataset.from_pandas(train_data)\n",
    "    dev_dataset = Dataset.from_pandas(dev_data)\n",
    "    test_dataset = Dataset.from_pandas(test_data)\n",
    "    \n",
    "    dataset_dict = DatasetDict({\n",
    "        'train': train_dataset,\n",
    "        'validation': dev_dataset,\n",
    "        'test': test_dataset\n",
    "    })\n",
    "    \n",
    "    return dataset_dict"
   ]
  },
  {
   "cell_type": "code",
   "execution_count": 23,
   "id": "0ba06b95-a6d3-474e-97ba-fffb3b7ecba3",
   "metadata": {},
   "outputs": [],
   "source": [
    "dataset_dir = '../data/raw/'\n",
    "# Create Hugging Face dataset objects\n",
    "refind_datasets = create_hf_dataset(dataset_dir)"
   ]
  },
  {
   "cell_type": "markdown",
   "id": "d8ff11e7-dcd4-4f3a-8f52-73d8ec9115c7",
   "metadata": {},
   "source": [
    "## 3. Preliminary Data Analysis"
   ]
  },
  {
   "cell_type": "code",
   "execution_count": 6,
   "id": "4a5dc188-f3d8-4c73-b026-d21ab6b7ae10",
   "metadata": {},
   "outputs": [
    {
     "name": "stdout",
     "output_type": "stream",
     "text": [
      "Number of samples in train: 20070\n",
      "Number of samples in validation: 4306\n",
      "Number of samples in test: 4300\n"
     ]
    }
   ],
   "source": [
    "# Show basic statistics about the dataset\n",
    "for split in refind_datasets.keys():\n",
    "    print(f\"Number of samples in {split}: {len(refind_datasets[split])}\")"
   ]
  },
  {
   "cell_type": "code",
   "execution_count": 7,
   "id": "b758c836-61ad-4762-bbd9-f67d4abc27d4",
   "metadata": {},
   "outputs": [
    {
     "name": "stdout",
     "output_type": "stream",
     "text": [
      "\n",
      "Summary of dataset slice:\n",
      "Dataset({\n",
      "    features: ['id', 'docid', 'relation', 'rel_group', 'token', 'e1_start', 'e1_end', 'e2_start', 'e2_end', 'e1_type', 'e2_type', 'spacy_pos', 'spacy_ner', 'spacy_head', 'spacy_deprel', 'sdp', 'sdp_tok_idx', 'token_test', 'e1', 'e2'],\n",
      "    num_rows: 5\n",
      "})\n"
     ]
    }
   ],
   "source": [
    "# Show the first few examples from the training set\n",
    "print(\"\\nSummary of dataset slice:\")\n",
    "print(refind_datasets['train'].select(range(5)))"
   ]
  },
  {
   "cell_type": "code",
   "execution_count": 8,
   "id": "4ba179aa-1eb9-476a-865f-3a2f5ba4690b",
   "metadata": {},
   "outputs": [
    {
     "name": "stdout",
     "output_type": "stream",
     "text": [
      "\n",
      "First few examples from the training set:\n",
      "                                                  id      docid     relation  \\\n",
      "0                                               None  2016/2017  no_relation   \n",
      "1                                               None  2016/2017  no_relation   \n",
      "2  BERTPretrain_10KReports/2017/QTR2/20170518_10-...  2016/2017  no_relation   \n",
      "3                                               None  2016/2017  no_relation   \n",
      "4                                               None  2016/2017  no_relation   \n",
      "\n",
      "  rel_group                                              token  e1_start  \\\n",
      "0   ORG-ORG  [warrants, to, purchase, Lumos, Networks, Corp...         3   \n",
      "1   ORG-ORG  [warrants, to, purchase, Lumos, Networks, Corp...         9   \n",
      "2   ORG-ORG  [turn, over, to, Global, Gold, at, its, office...       115   \n",
      "3   ORG-ORG  [ts, Eighteen, of, FelCor, Lodging, LP, Consol...        21   \n",
      "4   ORG-ORG  [the, WFOE, will, waive, and, release, you, un...        21   \n",
      "\n",
      "   e1_end  e2_start  e2_end e1_type e2_type  \\\n",
      "0       6         9      12     ORG     ORG   \n",
      "1      12         3       6     ORG     ORG   \n",
      "2     117        95      96     ORG     ORG   \n",
      "3      24        15      17     ORG     ORG   \n",
      "4      29         1       2     ORG     ORG   \n",
      "\n",
      "                                           spacy_pos  \\\n",
      "0  [NNS, TO, VB, NNP, NNP, NNP, JJ, NN, ,, DT, NN...   \n",
      "1  [NNS, TO, VB, NNP, NNP, NNP, JJ, NN, ,, DT, NN...   \n",
      "2  [NN, RP, IN, NNP, NNP, IN, PRP$, NNS, IN, NNP,...   \n",
      "3  [NNP, CD, IN, NNP, NNP, NNP, NNP, NNPS, VBP, I...   \n",
      "4  [DT, NNP, MD, VB, CC, VB, PRP, RB, IN, DT, NNS...   \n",
      "\n",
      "                                           spacy_ner  \\\n",
      "0  [O, O, O, ORG, ORG, ORG, O, O, O, ORG, ORG, OR...   \n",
      "1  [O, O, O, ORG, ORG, ORG, O, O, O, ORG, ORG, OR...   \n",
      "2  [O, O, O, O, O, O, O, O, O, O, O, O, O, O, O, ...   \n",
      "3  [O, O, O, O, O, O, O, O, O, O, O, O, O, O, O, ...   \n",
      "4  [O, ORG, O, O, O, O, O, O, O, O, O, O, O, O, O...   \n",
      "\n",
      "                                          spacy_head  \\\n",
      "0       [0, 2, 0, 5, 5, 7, 7, 2, 7, 11, 11, 7, 0, 0]   \n",
      "1       [0, 2, 0, 5, 5, 7, 7, 2, 7, 11, 11, 7, 0, 0]   \n",
      "2  [0, 0, 0, 4, 2, 4, 7, 5, 7, 8, 9, 12, 9, 0, 19...   \n",
      "3  [8, 8, 1, 7, 7, 7, 7, 2, 8, 8, 13, 10, 10, 9, ...   \n",
      "4  [1, 3, 3, 3, 3, 3, 5, 5, 5, 10, 8, 10, 11, 12,...   \n",
      "\n",
      "                                        spacy_deprel  \\\n",
      "0  [ROOT, aux, acl, nmod, nmod, nmod, amod, dobj,...   \n",
      "1  [ROOT, aux, acl, nmod, nmod, nmod, amod, dobj,...   \n",
      "2  [ROOT, prt, prep, compound, pobj, prep, poss, ...   \n",
      "3  [dep, nsubj, prep, compound, compound, compoun...   \n",
      "4  [det, nsubj, aux, ROOT, cc, conj, dobj, advmod...   \n",
      "\n",
      "                                                 sdp  \\\n",
      "0  [Lumos Networks Corp., stock, purchase, the Pa...   \n",
      "1  [Lumos Networks Corp., stock, purchase, the Pa...   \n",
      "2          [Stockhouse, Vartanian, pay, Global Gold]   \n",
      "3  [Embassy Suites, agreements, separate, agreeme...   \n",
      "4  [WFOE, waive, unconditionally, claims, arising...   \n",
      "\n",
      "                  sdp_tok_idx  \\\n",
      "0                      [7, 2]   \n",
      "1                      [7, 2]   \n",
      "2                   [70, 114]   \n",
      "3                [13, 19, 25]   \n",
      "4  [3, 7, 10, 11, 15, 31, 19]   \n",
      "\n",
      "                                          token_test                       e1  \\\n",
      "0  warrantstopurchaselumosnetworkscorpcommonstock...        lumosnetworkscorp   \n",
      "1  warrantstopurchaselumosnetworkscorpcommonstock...      thepamplonaentities   \n",
      "2  turnovertoglobalgoldatitsofficesinryenewyorkco...               globalgold   \n",
      "3  tseighteenoffelcorlodginglpconsolidatedhotelso...          felcorlodginglp   \n",
      "4  thewfoewillwaiveandreleaseyouunconditionallyfr...  youondemandholdingsincs   \n",
      "\n",
      "                    e2  \n",
      "0  thepamplonaentities  \n",
      "1    lumosnetworkscorp  \n",
      "2           stockhouse  \n",
      "3        embassysuites  \n",
      "4                 wfoe  \n"
     ]
    }
   ],
   "source": [
    "# Convert the first few examples from the training set to a pandas DataFrame\n",
    "first_few_examples_df = refind_datasets['train'].select(range(5)).to_pandas()\n",
    "# Display the DataFrame\n",
    "print(\"\\nFirst few examples from the training set:\")\n",
    "print(first_few_examples_df)"
   ]
  },
  {
   "cell_type": "code",
   "execution_count": 9,
   "id": "9a5eece3-d996-4c67-be8c-218b3932020e",
   "metadata": {},
   "outputs": [
    {
     "name": "stdout",
     "output_type": "stream",
     "text": [
      "\n",
      "Distribution of relation types in the training set:\n",
      "relation\n",
      "no_relation                 9128\n",
      "pers:title:title            3126\n",
      "org:gpe:operations_in       2832\n",
      "pers:org:employee_of        1733\n",
      "org:org:agreement_with       653\n",
      "org:date:formed_on           448\n",
      "pers:org:member_of           441\n",
      "org:org:subsidiary_of        386\n",
      "org:org:shares_of            286\n",
      "org:money:revenue_of         217\n",
      "org:money:loss_of            141\n",
      "org:gpe:headquartered_in     135\n",
      "org:date:acquired_on         134\n",
      "pers:org:founder_of           92\n",
      "org:gpe:formed_in             81\n",
      "org:org:acquired_by           55\n",
      "pers:univ:employee_of         53\n",
      "pers:gov_agy:member_of        40\n",
      "pers:univ:attended            30\n",
      "pers:univ:member_of           23\n",
      "org:money:profit_of           20\n",
      "org:money:cost_of             16\n",
      "Name: count, dtype: int64\n"
     ]
    }
   ],
   "source": [
    "# Analyze the distribution of relation types in the training set\n",
    "relation_counts = refind_datasets['train'].to_pandas()['relation'].value_counts()\n",
    "print(\"\\nDistribution of relation types in the training set:\")\n",
    "print(relation_counts)"
   ]
  },
  {
   "cell_type": "code",
   "execution_count": 10,
   "id": "d0edb9b0-bdeb-4585-b142-daa73756cd1b",
   "metadata": {},
   "outputs": [],
   "source": [
    "def extract_entities(row):\n",
    "    # Extract entities based on start and end indices\n",
    "    e1_tokens = row['token'][row['e1_start']:row['e1_end'] + 1]\n",
    "    e2_tokens = row['token'][row['e2_start']:row['e2_end'] + 1]\n",
    "    e1 = ' '.join(e1_tokens).replace(\"- \", \"\")\n",
    "    e2 = ' '.join(e2_tokens).replace(\"- \", \"\")\n",
    "    return len(e1.split()), len(e2.split())\n",
    "\n",
    "# Analyzing lengths\n",
    "def analyze_entity_lengths(df):\n",
    "    source_lengths = df['e1_length']\n",
    "    target_lengths = df['e2_length']\n",
    "\n",
    "    print(f\"Sources: Single-word: {(source_lengths == 1).sum()}, Multi-word: {(source_lengths > 1).sum()}\")\n",
    "    print(f\"Targets: Single-word: {(target_lengths == 1).sum()}, Multi-word: {(target_lengths > 1).sum()}\")\n",
    "\n",
    "    plt.figure(figsize=(12, 5))\n",
    "    plt.subplot(1, 2, 1)\n",
    "    plt.hist(source_lengths, bins=range(1, max(source_lengths) + 1), alpha=0.7, color='blue', label='Source Lengths')\n",
    "    plt.title('Distribution of Source Lengths')\n",
    "    plt.xlabel('Length (words)')\n",
    "    plt.ylabel('Frequency')\n",
    "    plt.legend()\n",
    "\n",
    "    plt.subplot(1, 2, 2)\n",
    "    plt.hist(target_lengths, bins=range(1, max(target_lengths) + 1), alpha=0.7, color='green', label='Target Lengths')\n",
    "    plt.title('Distribution of Target Lengths')\n",
    "    plt.xlabel('Length (words)')\n",
    "    plt.legend()\n",
    "\n",
    "    plt.tight_layout()\n",
    "    plt.show()"
   ]
  },
  {
   "cell_type": "code",
   "execution_count": 13,
   "id": "7ac7a5b1-7606-47da-96b4-5b8aa5859b43",
   "metadata": {},
   "outputs": [
    {
     "name": "stdout",
     "output_type": "stream",
     "text": [
      "Sources: Single-word: 2, Multi-word: 20068\n",
      "Targets: Single-word: 31, Multi-word: 20039\n"
     ]
    },
    {
     "data": {
      "image/png": "[encoded data removed]",
      "text/plain": [
       "<Figure size 1200x500 with 2 Axes>"
      ]
     },
     "metadata": {},
     "output_type": "display_data"
    }
   ],
   "source": [
    "df_train = refind_datasets['train'].to_pandas()\n",
    "# Apply the entity extraction and length calculation on the DataFrame\n",
    "df_train['e1_length'], df_train['e2_length'] = zip(*df_train.apply(extract_entities, axis=1))\n",
    "analyze_entity_lengths(df_train)"
   ]
  },
  {
   "cell_type": "code",
   "execution_count": 28,
   "id": "e8383f46-1580-4467-9a4f-f4158d0fb582",
   "metadata": {},
   "outputs": [
    {
     "name": "stdout",
     "output_type": "stream",
     "text": [
      "dict_keys(['id', 'docid', 'relation', 'rel_group', 'token', 'e1_start', 'e1_end', 'e2_start', 'e2_end', 'e1_type', 'e2_type', 'spacy_pos', 'spacy_ner', 'spacy_head', 'spacy_deprel', 'sdp', 'sdp_tok_idx', 'token_test', 'e1', 'e2'])\n"
     ]
    }
   ],
   "source": [
    "sample = refind_datasets['train'][59]\n",
    "print(sample.keys())"
   ]
  },
  {
   "cell_type": "code",
   "execution_count": 32,
   "id": "5388a3f0-4154-4222-b2b2-85c953547a79",
   "metadata": {},
   "outputs": [
    {
     "name": "stdout",
     "output_type": "stream",
     "text": [
      "org:org:subsidiary_of \n",
      " ORG-ORG\n"
     ]
    }
   ],
   "source": [
    "print(sample['relation'],\"\\n\",sample['rel_group'])"
   ]
  },
  {
   "cell_type": "code",
   "execution_count": 33,
   "id": "ccee625b-eaac-4932-b8ff-3a606f6121d1",
   "metadata": {},
   "outputs": [
    {
     "name": "stdout",
     "output_type": "stream",
     "text": [
      "['When', 'Granite', 'Falls', 'Energy', ',', 'LLC', 'use', 'the', 'terms', '\"', 'Granite', 'Falls', 'Energy', '\"', ',', '\"', 'we', '\"', ',', '\"', 'us', '\"', ',', '\"', 'our', '\"', ',', 'the', '\"', 'Company', '\"', ',', '\"', 'GFE', '\"', 'or', 'similar', 'words', 'in', 'this', 'Annual', 'Report', 'on', 'Form', '10', '-', 'K', ',', 'unless', 'the', 'context', 'otherwise', 'requires', ',', 'Granite', 'Falls', 'Energy', ',', 'LLC', 'are', 'referring', 'to', 'Granite', 'Falls', 'Energy', ',', 'LLC', 'and', 'its', 'wholly', 'owned', 'subsidiary', ',', 'Project', 'Viking', ',', 'L.L.C', ',', 'through', 'which', 'Granite', 'Falls', 'Energy', ',', 'LLC', 'hold', 'a', 'controlling', 'interest', 'in', 'Heron', 'Lake', 'BioEnergy', ',', 'LLC', '.'] \n",
      " 96\n"
     ]
    }
   ],
   "source": [
    "print(sample['token'],\"\\n\",len(sample['token']))"
   ]
  },
  {
   "cell_type": "code",
   "execution_count": 39,
   "id": "63e8abaf-a705-49d4-8bdf-c5405f92b907",
   "metadata": {},
   "outputs": [
    {
     "name": "stdout",
     "output_type": "stream",
     "text": [
      "projectvikingllc \n",
      " granitefallsenergyllc\n"
     ]
    }
   ],
   "source": [
    "print(sample['e1'],\"\\n\",sample['e2'])"
   ]
  },
  {
   "cell_type": "code",
   "execution_count": 37,
   "id": "773c479e-2bac-4518-9c72-ecd62ef348b9",
   "metadata": {},
   "outputs": [
    {
     "name": "stdout",
     "output_type": "stream",
     "text": [
      "73 \n",
      " 77\n"
     ]
    }
   ],
   "source": [
    "print(sample['e1_start'],\"\\n\",sample['e1_end'])"
   ]
  },
  {
   "cell_type": "code",
   "execution_count": 40,
   "id": "371219f4-033c-43c7-9f7e-f7aaab5f29cb",
   "metadata": {},
   "outputs": [
    {
     "name": "stdout",
     "output_type": "stream",
     "text": [
      "['Project', 'Viking', ',', 'L.L.C'] \n",
      " ['Granite', 'Falls', 'Energy', ',', 'LLC']\n"
     ]
    }
   ],
   "source": [
    "print(sample['token'][sample['e1_start']:sample['e1_end']],\n",
    "      \"\\n\",\n",
    "     sample['token'][sample['e2_start']:sample['e2_end']])"
   ]
  },
  {
   "cell_type": "code",
   "execution_count": 41,
   "id": "731d9e03-a2b8-4450-a57b-1c997725decf",
   "metadata": {},
   "outputs": [
    {
     "name": "stderr",
     "output_type": "stream",
     "text": [
      "100%|███████████████████████████████████| 20070/20070 [00:09<00:00, 2144.84it/s]"
     ]
    },
    {
     "name": "stdout",
     "output_type": "stream",
     "text": [
      "8 22 8\n"
     ]
    },
    {
     "name": "stderr",
     "output_type": "stream",
     "text": [
      "\n"
     ]
    }
   ],
   "source": [
    "all_labels = set()\n",
    "all_label_groups = set()\n",
    "all_entity_types = set()\n",
    "\n",
    "for item in tqdm(refind_datasets['train']):\n",
    "    all_labels.add(item['relation'])\n",
    "    all_label_groups.add(item['rel_group'])\n",
    "    all_entity_types.add(item['e1_type'])\n",
    "    all_entity_types.add(item['e2_type'])\n",
    "\n",
    "print(len(all_label_groups), len(all_labels), len(all_entity_types))"
   ]
  },
  {
   "cell_type": "code",
   "execution_count": 42,
   "id": "4e789628-4f32-40ea-b838-41089feef623",
   "metadata": {},
   "outputs": [
    {
     "name": "stdout",
     "output_type": "stream",
     "text": [
      "{'ORG-DATE', 'ORG-ORG', 'PERSON-TITLE', 'PERSON-GOV_AGY', 'PERSON-UNIV', 'ORG-GPE', 'PERSON-ORG', 'ORG-MONEY'}\n"
     ]
    }
   ],
   "source": [
    "print(all_label_groups)"
   ]
  },
  {
   "cell_type": "code",
   "execution_count": 43,
   "id": "a5c7d1a8-3808-486d-8842-c05958022c1f",
   "metadata": {},
   "outputs": [
    {
     "name": "stdout",
     "output_type": "stream",
     "text": [
      "{'MONEY', 'TITLE', 'PERSON', 'ORG', 'UNIV', 'DATE', 'GOV_AGY', 'GPE'}\n"
     ]
    }
   ],
   "source": [
    "print(all_entity_types)"
   ]
  },
  {
   "cell_type": "code",
   "execution_count": 44,
   "id": "791fbbaf-c0c6-4c4c-aee9-8a6bca44912a",
   "metadata": {},
   "outputs": [
    {
     "name": "stdout",
     "output_type": "stream",
     "text": [
      "{'pers:gov_agy:member_of', 'pers:title:title', 'org:org:shares_of', 'org:gpe:headquartered_in', 'pers:org:member_of', 'org:org:acquired_by', 'pers:univ:attended', 'org:gpe:operations_in', 'pers:univ:employee_of', 'pers:org:founder_of', 'pers:org:employee_of', 'org:money:cost_of', 'org:org:subsidiary_of', 'org:money:revenue_of', 'org:money:profit_of', 'no_relation', 'pers:univ:member_of', 'org:date:formed_on', 'org:gpe:formed_in', 'org:money:loss_of', 'org:org:agreement_with', 'org:date:acquired_on'}\n"
     ]
    }
   ],
   "source": [
    "print(all_labels)"
   ]
  },
  {
   "cell_type": "code",
   "execution_count": 49,
   "id": "f0f177b6-00be-4328-ab66-76d64e777545",
   "metadata": {},
   "outputs": [
    {
     "name": "stdout",
     "output_type": "stream",
     "text": [
      "When Granite Falls Energy , LLC use the terms \" Granite Falls Energy \" , \" we \" , \" us \" , \" our \" , the \" Company \" , \" GFE \" or similar words in this Annual Report on Form 10 - K , unless the context otherwise requires , Granite Falls Energy , LLC are referring to Granite Falls Energy , LLC and its wholly owned subsidiary , Project Viking , L.L.C , through which Granite Falls Energy , LLC hold a controlling interest in Heron Lake BioEnergy , LLC .\n",
      " E1 : Project Viking , L.L.C\n",
      " E2 : Granite Falls Energy , LLC\n"
     ]
    }
   ],
   "source": [
    "e1 = ' '.join(sample['token'][sample['e1_start']: sample['e1_end']])\n",
    "e2 = ' '.join(sample['token'][sample['e2_start']: sample['e2_end']])\n",
    "\n",
    "text = ' '.join(sample['token']) + \"\\n E1 : {}\".format(e1) + '\\n E2 : {}'.format(e2)\n",
    "print(text)"
   ]
  }
 ],
 "metadata": {
  "kernelspec": {
   "display_name": "Python 3 (ipykernel)",
   "language": "python",
   "name": "python3"
  },
  "language_info": {
   "codemirror_mode": {
    "name": "ipython",
    "version": 3
   },
   "file_extension": ".py",
   "mimetype": "text/x-python",
   "name": "python",
   "nbconvert_exporter": "python",
   "pygments_lexer": "ipython3",
   "version": "3.12.1"
  }
 },
 "nbformat": 4,
 "nbformat_minor": 5
}
