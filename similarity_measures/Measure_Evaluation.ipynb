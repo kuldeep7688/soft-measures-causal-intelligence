{
 "cells": [
  {
   "cell_type": "code",
   "execution_count": 45,
   "id": "ca71a0cc",
   "metadata": {},
   "outputs": [
    {
     "name": "stdout",
     "output_type": "stream",
     "text": [
      "INFO:tensorflow:Reading checkpoint bleurt-base-128.\n"
     ]
    },
    {
     "name": "stderr",
     "output_type": "stream",
     "text": [
      "INFO:tensorflow:Reading checkpoint bleurt-base-128.\n"
     ]
    },
    {
     "name": "stdout",
     "output_type": "stream",
     "text": [
      "INFO:tensorflow:Config file found, reading.\n"
     ]
    },
    {
     "name": "stderr",
     "output_type": "stream",
     "text": [
      "INFO:tensorflow:Config file found, reading.\n"
     ]
    },
    {
     "name": "stdout",
     "output_type": "stream",
     "text": [
      "INFO:tensorflow:Will load checkpoint bert_custom\n"
     ]
    },
    {
     "name": "stderr",
     "output_type": "stream",
     "text": [
      "INFO:tensorflow:Will load checkpoint bert_custom\n"
     ]
    },
    {
     "name": "stdout",
     "output_type": "stream",
     "text": [
      "INFO:tensorflow:Loads full paths and checks that files exists.\n"
     ]
    },
    {
     "name": "stderr",
     "output_type": "stream",
     "text": [
      "INFO:tensorflow:Loads full paths and checks that files exists.\n"
     ]
    },
    {
     "name": "stdout",
     "output_type": "stream",
     "text": [
      "INFO:tensorflow:... name:bert_custom\n"
     ]
    },
    {
     "name": "stderr",
     "output_type": "stream",
     "text": [
      "INFO:tensorflow:... name:bert_custom\n"
     ]
    },
    {
     "name": "stdout",
     "output_type": "stream",
     "text": [
      "INFO:tensorflow:... vocab_file:vocab.txt\n"
     ]
    },
    {
     "name": "stderr",
     "output_type": "stream",
     "text": [
      "INFO:tensorflow:... vocab_file:vocab.txt\n"
     ]
    },
    {
     "name": "stdout",
     "output_type": "stream",
     "text": [
      "INFO:tensorflow:... bert_config_file:bert_config.json\n"
     ]
    },
    {
     "name": "stderr",
     "output_type": "stream",
     "text": [
      "INFO:tensorflow:... bert_config_file:bert_config.json\n"
     ]
    },
    {
     "name": "stdout",
     "output_type": "stream",
     "text": [
      "INFO:tensorflow:... do_lower_case:True\n"
     ]
    },
    {
     "name": "stderr",
     "output_type": "stream",
     "text": [
      "INFO:tensorflow:... do_lower_case:True\n"
     ]
    },
    {
     "name": "stdout",
     "output_type": "stream",
     "text": [
      "INFO:tensorflow:... max_seq_length:128\n"
     ]
    },
    {
     "name": "stderr",
     "output_type": "stream",
     "text": [
      "INFO:tensorflow:... max_seq_length:128\n"
     ]
    },
    {
     "name": "stdout",
     "output_type": "stream",
     "text": [
      "INFO:tensorflow:Creating BLEURT scorer.\n"
     ]
    },
    {
     "name": "stderr",
     "output_type": "stream",
     "text": [
      "INFO:tensorflow:Creating BLEURT scorer.\n"
     ]
    },
    {
     "name": "stdout",
     "output_type": "stream",
     "text": [
      "INFO:tensorflow:Creating WordPiece tokenizer.\n"
     ]
    },
    {
     "name": "stderr",
     "output_type": "stream",
     "text": [
      "INFO:tensorflow:Creating WordPiece tokenizer.\n"
     ]
    },
    {
     "name": "stdout",
     "output_type": "stream",
     "text": [
      "INFO:tensorflow:WordPiece tokenizer instantiated.\n"
     ]
    },
    {
     "name": "stderr",
     "output_type": "stream",
     "text": [
      "INFO:tensorflow:WordPiece tokenizer instantiated.\n"
     ]
    },
    {
     "name": "stdout",
     "output_type": "stream",
     "text": [
      "INFO:tensorflow:Creating Eager Mode predictor.\n"
     ]
    },
    {
     "name": "stderr",
     "output_type": "stream",
     "text": [
      "INFO:tensorflow:Creating Eager Mode predictor.\n"
     ]
    },
    {
     "name": "stdout",
     "output_type": "stream",
     "text": [
      "INFO:tensorflow:Loading model.\n"
     ]
    },
    {
     "name": "stderr",
     "output_type": "stream",
     "text": [
      "INFO:tensorflow:Loading model.\n"
     ]
    },
    {
     "name": "stdout",
     "output_type": "stream",
     "text": [
      "INFO:tensorflow:BLEURT initialized.\n"
     ]
    },
    {
     "name": "stderr",
     "output_type": "stream",
     "text": [
      "INFO:tensorflow:BLEURT initialized.\n"
     ]
    }
   ],
   "source": [
    "import numpy as np\n",
    "import pandas as pd\n",
    "\n",
    "from nltk.translate.meteor_score import meteor_score\n",
    "from rouge_score import rouge_scorer\n",
    "from nltk.translate.bleu_score import sentence_bleu\n",
    "from bleurt import score\n",
    "\n",
    "scorer = score.BleurtScorer(checkpoint=\"bleurt-base-128\")\n",
    "\n",
    "import json\n",
    "import ast\n",
    "import re\n",
    "import time\n",
    "\n",
    "import warnings\n",
    "warnings.filterwarnings('ignore')"
   ]
  },
  {
   "cell_type": "code",
   "execution_count": 74,
   "id": "5c1f52ff",
   "metadata": {},
   "outputs": [],
   "source": [
    "class DataPreprocessor:\n",
    "    def __init__(self):\n",
    "        pass\n",
    "    def extract_triples(self, input_string):\n",
    "        tuples = []\n",
    "        if \"</s>\" in input_string:\n",
    "            input_string = input_string.rstrip(\"</s>\").strip()\n",
    "        if \"<|eot_id|>\" in input_string:\n",
    "            input_string =input_string.rstrip(\"<|eot_id|>\").strip()\n",
    "        \n",
    "        lines = input_string.split('\\n')\n",
    "        pattern = r'<triplet>\\s*(.*?)\\s*<subj>\\s*(.*?)\\s*<obj>\\s*(.*)$'\n",
    "\n",
    "        for line in lines:\n",
    "            match = re.search(pattern, line)\n",
    "            if match:\n",
    "                tuples.append((match.group(1), match.group(2), match.group(3)))\n",
    "        return tuples\n",
    "    def convert_df_to_json(self, df):\n",
    "        json_list_train = []\n",
    "        json_list_generated = []\n",
    "\n",
    "        for index, row in df.iterrows():\n",
    "            input_sentence = row['input_sentence']\n",
    "            gold_output_text = row['gold_output']\n",
    "            output_triples = ast.literal_eval(row[\"extracted_triples\"]) # extracted_triples\n",
    "            \n",
    "            # Extract triples from gold_output_text\n",
    "            \n",
    "            gold_output_triples = self.extract_triples(gold_output_text)\n",
    "          \n",
    "\n",
    "            train_json = {\n",
    "                \"text\": input_sentence,\n",
    "                \"causal relations\": []\n",
    "            }\n",
    "            \n",
    "            # Creating generated JSON\n",
    "            generated_json = {\n",
    "                \"text\": input_sentence, \n",
    "                \"causal relations\": ast.literal_eval(row[\"extracted_triples\"])} # extracted_triples\n",
    "\n",
    "            for triple in gold_output_triples:\n",
    "                train_json['causal relations'].append({\n",
    "                    \"src\": triple[0],\n",
    "                    \"tgt\": triple[1],\n",
    "                    \"direction\": triple[2]\n",
    "                })\n",
    "            \n",
    "\n",
    "            json_list_train.append(json.dumps(train_json))\n",
    "            json_list_generated.append(json.dumps(generated_json))\n",
    "\n",
    "        return json_list_train, json_list_generated\n",
    "\n",
    "    def extract_nodes_and_edges(self, train_json, generated_json):\n",
    "        ground_truth_src_nodes = set()\n",
    "        ground_truth_tgt_nodes = set()\n",
    "        predicted_src_nodes = set()\n",
    "        predicted_tgt_nodes = set()\n",
    "        ground_truth_edges = []\n",
    "        predicted_edges = []\n",
    "        \n",
    "        for item in train_json:\n",
    "            item = json.loads(item)\n",
    "            for relation in item['causal relations']:\n",
    "                ground_truth_src_nodes.add(relation['src'])\n",
    "                ground_truth_tgt_nodes.add(relation['tgt'])\n",
    "                ground_truth_edges.append((relation['src'], relation['direction'].strip(), relation['tgt']))\n",
    "\n",
    "        for item in generated_json:\n",
    "            item = json.loads(item)\n",
    "            for relation in item['causal relations']:\n",
    "                predicted_src_nodes.add(relation['src'])\n",
    "                predicted_tgt_nodes.add(relation['tgt'])\n",
    "                predicted_edges.append((relation['src'], relation['direction'].strip(), relation['tgt']))\n",
    "\n",
    "        return (list(predicted_src_nodes), list(predicted_tgt_nodes), \n",
    "                list(ground_truth_src_nodes), list(ground_truth_tgt_nodes), \n",
    "                predicted_edges, ground_truth_edges)\n",
    "\n",
    "\n",
    "\n",
    "\n"
   ]
  },
  {
   "cell_type": "code",
   "execution_count": 75,
   "id": "1575a71d",
   "metadata": {},
   "outputs": [],
   "source": [
    "\n",
    "\n",
    "class Metrics:\n",
    "    def __init__(self):\n",
    "        pass\n",
    "    def compute_bleurt(self, candidates, references):\n",
    "        \n",
    "        # scores = bleurt.compute(predictions=candidates, references=references)['scores']\n",
    "        scores = scorer.score(candidates=candidates, references=references) \n",
    "        return scores\n",
    "\n",
    "    def compute_bleu(self, candidates, references):\n",
    "        scores = []\n",
    "        \n",
    "        \n",
    "        for candidate, reference in zip(candidates, references):\n",
    "            if len(candidate.split())==0:\n",
    "                scores.append(0)\n",
    "                continue\n",
    "            score = sentence_bleu(reference.split(), candidate)\n",
    "            scores.append(score)\n",
    "        return scores\n",
    "\n",
    "    def compute_meteor(self, candidates, references):\n",
    "        scores = []\n",
    "        for candidate, reference in zip(candidates, references):\n",
    "            if len(candidate.split())==0:\n",
    "                scores.append(0)\n",
    "                continue\n",
    "            score = meteor_score(reference.split(), candidate)\n",
    "            \n",
    "            scores.append(score)\n",
    "        return scores\n",
    "\n",
    "    def compute_rouge(self, candidates, references):\n",
    "        scores = []\n",
    "        scorer = rouge_scorer.RougeScorer(['rouge1'], use_stemmer=True)\n",
    "        for candidate, reference in zip(candidates, references):\n",
    "            score = scorer.score(reference, candidate)['rouge1'].fmeasure\n",
    "         \n",
    "            scores.append(score)\n",
    "        return scores\n",
    "\n",
    "    def compute_verbatim(self, candidates, references):\n",
    "        scores = np.array(candidates)==np.array(references)\n",
    "        return scores.astype(int)\n",
    "    \n"
   ]
  },
  {
   "cell_type": "code",
   "execution_count": 76,
   "id": "f18d51da",
   "metadata": {},
   "outputs": [],
   "source": [
    "\n",
    "class ScoreCalculator:\n",
    "    cache = {}\n",
    "    def __init__(self, filenames, metrics, thresholds):\n",
    "        self.filenames = filenames\n",
    "        self.metrics = metrics\n",
    "        self.thresholds = thresholds\n",
    "        self.metric_computer = Metrics()\n",
    "        self.data_preprocessor = DataPreprocessor()\n",
    "    def compute_scores(self, nodes1, nodes2, metric):\n",
    "        candidates = [pred for pred in nodes1 for _ in nodes2]\n",
    "        references = [ref for _ in nodes1 for ref in nodes2]\n",
    "\n",
    "        if metric == 'bleurt':\n",
    "            scores = self.metric_computer.compute_bleurt(candidates, references)            \n",
    "            \n",
    "        elif metric == 'bleu':\n",
    "            scores = self.metric_computer.compute_bleu(candidates, references)\n",
    " \n",
    "        elif metric == 'meteor':\n",
    "            scores = self.metric_computer.compute_meteor(candidates, references)\n",
    "        \n",
    "        elif metric == 'rouge':\n",
    "            scores = self.metric_computer.compute_rouge(candidates, references)\n",
    "        \n",
    "        elif metric == 'verbatim':\n",
    "            scores = self.metric_computer.compute_verbatim(candidates, references)\n",
    "        else:\n",
    "            raise ValueError(f'Unknown metric: {metric}')\n",
    "\n",
    "        return scores\n",
    "    \n",
    "    def find_node_mappings(self, pred_nodes, gt_nodes, node_matrix):\n",
    "        mappings = {}\n",
    "        for i, pred_node in enumerate(pred_nodes):\n",
    "            for j, gt_node in enumerate(gt_nodes):\n",
    "                if node_matrix[i, j]:\n",
    "                    if pred_node not in mappings:\n",
    "                        mappings[pred_node] = []\n",
    "                    mappings[pred_node].append(gt_node)\n",
    "        return mappings\n",
    "\n",
    "    def find_matching_edges(self, pred_edges, gt_edges, pred_to_gt_mappings):\n",
    "        matched_edges = []\n",
    "        matched_pred_edges=[]\n",
    "        for src, dir, tgt in pred_edges:\n",
    "            dir=dir.strip()\n",
    "            if src in pred_to_gt_mappings and tgt in pred_to_gt_mappings:\n",
    "                for mapped_src in pred_to_gt_mappings[src]:\n",
    "                    for mapped_tgt in pred_to_gt_mappings[tgt]:\n",
    "                        if (mapped_src, dir, mapped_tgt) in gt_edges and (src,dir,tgt) in pred_edges:\n",
    "                            if (mapped_src, dir, mapped_tgt) not in matched_edges:\n",
    "                                matched_edges.append((mapped_src, dir, mapped_tgt))\n",
    "                            matched_pred_edges.append((src,dir,tgt))\n",
    "                            \n",
    "        return matched_pred_edges,matched_edges\n",
    "    \n",
    "    def calculate_f1_score(self, tp, fp, fn):\n",
    "        if tp + fp == 0:  # Check if the denominator is zero\n",
    "            precision = 0  # If so, set precision to zero to avoid division by zero\n",
    "        else:\n",
    "            precision = tp / (tp + fp)\n",
    "        if tp + fn == 0:  # Check if the denominator is zero\n",
    "            recall = 0     # If so, set recall to zero to avoid division by zero\n",
    "        else:\n",
    "            recall = tp / (tp + fn)\n",
    "        \n",
    "        if precision + recall == 0:\n",
    "            return 0\n",
    "        else:\n",
    "            f1_score = 2 * (precision * recall) / (precision + recall)\n",
    "            return f1_score\n",
    "    def calculate_scores(self):\n",
    "        scores_df = pd.DataFrame(columns=['Model', 'Metric', 'F1'])\n",
    "        detailed_scores_df = pd.DataFrame(columns=['Model', 'Metric', 'Row', 'F1'])\n",
    "        \n",
    "        for model, filename in self.filenames.items():\n",
    "        # Check if the file is a .csv or .json\n",
    "            if filename.endswith('.json'):\n",
    "                with open(filename) as f:\n",
    "                    data = json.load(f)\n",
    "                    train_json, generated_json = data['train'], data['generated']\n",
    "                    train_json = [json.dumps(item) for item in train_json]\n",
    "                    generated_json = [json.dumps(item) for item in generated_json]\n",
    "                    \n",
    "                    # Convert JSON to DataFrame for row-wise processing\n",
    "                    df = pd.DataFrame({'train': train_json, 'generated': generated_json})\n",
    "\n",
    "            else:\n",
    "                df = pd.read_csv(filename)\n",
    "                train_json, generated_json = self.data_preprocessor.convert_df_to_json(df)\n",
    "\n",
    "            for metric in self.metrics:\n",
    "                threshold = self.thresholds[metric]\n",
    "                row_f1_scores = []\n",
    "\n",
    "                for row_idx, row in df.iterrows():\n",
    "                    single_row_df = pd.DataFrame([row])\n",
    "                    if filename.endswith('.json'):\n",
    "                        train_json_row, generated_json_row = [train_json[row_idx]], [generated_json[row_idx]]\n",
    "                    else:\n",
    "                        train_json_row, generated_json_row = self.data_preprocessor.convert_df_to_json(single_row_df)\n",
    "                    \n",
    "                    predicted_nodes_src_row, predicted_nodes_tgt_row, ground_truth_nodes_src_row, ground_truth_nodes_tgt_row, predicted_edges_row, ground_truth_edges_row = self.data_preprocessor.extract_nodes_and_edges(train_json_row, generated_json_row)\n",
    "                    # Calculate scores separately for source and target nodes\n",
    "                    \n",
    "                    # collect cached results if already computed\n",
    "                    if filename not in self.cache:\n",
    "                        ScoreCalculator.cache[filename] = {}\n",
    "                    if row_idx not in self.cache[filename]:\n",
    "                        ScoreCalculator.cache[filename][row_idx] = {}\n",
    "                    if metric not in self.cache[filename][row_idx]:\n",
    "                        ScoreCalculator.cache[filename][row_idx][metric] = {}\n",
    "                    if 'src' not in self.cache[filename][row_idx][metric]:\n",
    "                        ScoreCalculator.cache[filename][row_idx][metric]['src'] = self.compute_scores(predicted_nodes_src_row, ground_truth_nodes_src_row, metric)\n",
    "                    if 'tgt' not in self.cache[filename][row_idx][metric]:\n",
    "                        ScoreCalculator.cache[filename][row_idx][metric]['tgt'] = self.compute_scores(predicted_nodes_tgt_row, ground_truth_nodes_tgt_row, metric)\n",
    "\n",
    "                    all_scores_src = ScoreCalculator.cache[filename][row_idx][metric]['src']\n",
    "                    all_scores_tgt = ScoreCalculator.cache[filename][row_idx][metric]['tgt']\n",
    "                    \n",
    "                    # Create a combined matrix\n",
    "                    matrix_src = np.zeros((len(predicted_nodes_src_row), len(ground_truth_nodes_src_row)))\n",
    "                    \n",
    "                    for i in range(len(predicted_nodes_src_row)):\n",
    "                        for j in range(len(ground_truth_nodes_src_row)):\n",
    "                            matrix_src[i, j] = all_scores_src[i * len(ground_truth_nodes_src_row) + j]\n",
    "                    \n",
    "                    binary_matrix_src = matrix_src >= threshold\n",
    "                    \n",
    "                    matrix_tgt = np.zeros((len(predicted_nodes_tgt_row), len(ground_truth_nodes_tgt_row)))\n",
    "\n",
    "                    for i in range(len(predicted_nodes_tgt_row)):\n",
    "                        for j in range(len(ground_truth_nodes_tgt_row)):\n",
    "                            matrix_tgt[i, j] = all_scores_tgt[i * len(ground_truth_nodes_tgt_row) + j]\n",
    "\n",
    "                    binary_matrix_tgt = matrix_tgt >= threshold\n",
    "       \n",
    "\n",
    "                    # Find mappings for both src and tgt nodes\n",
    "                    pred_to_gt_mappings_src = self.find_node_mappings(predicted_nodes_src_row, ground_truth_nodes_src_row, binary_matrix_src)\n",
    "                    pred_to_gt_mappings_tgt = self.find_node_mappings(predicted_nodes_tgt_row, ground_truth_nodes_tgt_row, binary_matrix_tgt)\n",
    "\n",
    "                    # Combine mappings for both src and tgt nodes\n",
    "                    pred_to_gt_mappings = pred_to_gt_mappings_src | pred_to_gt_mappings_tgt\n",
    "\n",
    "                    pred_matched, matched_edges = self.find_matching_edges(predicted_edges_row, ground_truth_edges_row, pred_to_gt_mappings)\n",
    "\n",
    "      \n",
    "                    TP = len([edge for edge in matched_edges if edge in ground_truth_edges_row])\n",
    "                    FP = len(predicted_edges_row) - TP \n",
    "                    FN = len(ground_truth_edges_row) - TP\n",
    "                    \n",
    "                    F1 = self.calculate_f1_score(TP, FP, FN)\n",
    "\n",
    "                    row_f1_scores.append(F1)\n",
    "                    detailed_scores_df = detailed_scores_df.append({'Model': model, 'Metric': metric, 'Row': row_idx, 'F1': F1}, ignore_index=True)\n",
    "            \n",
    "                average_f1 = np.mean(row_f1_scores)\n",
    "                scores_df = scores_df.append({'Model': model, 'Metric': metric, 'F1': average_f1}, ignore_index=True)\n",
    "        scores_df = scores_df.set_index(['Model', 'Metric']).unstack()\n",
    "        scores_df.columns = ['_'.join(col).strip() for col in scores_df.columns.values]\n",
    "\n",
    "        return scores_df.reset_index(), detailed_scores_df\n",
    "\n"
   ]
  },
  {
   "cell_type": "code",
   "execution_count": 77,
   "id": "5971a710",
   "metadata": {},
   "outputs": [],
   "source": [
    "from scipy.stats import spearmanr\n",
    "\n",
    "def compare_metrics_elo(elo_df, metrics_df):\n",
    "    # Initialize a dictionary to store Spearman correlations for each metric\n",
    "    spearman_correlations = {}\n",
    "    spearman_sentence_metrics = {}\n",
    "    # Iterate through each metric in the metrics dataframe\n",
    "    for metric in metrics_df['Metric'].unique():\n",
    "        # Filter the metrics dataframe for the current metric\n",
    "        metric_df = metrics_df[metrics_df['Metric'] == metric]\n",
    "        \n",
    "        # Initialize lists to store Elo values and metric values\n",
    "        spearman_correlation = []\n",
    "        spearman_sentence = {}\n",
    "        for i in range(20):\n",
    "            winner = elo_df[elo_df[i]==max(elo_df[i])][i].index[0]\n",
    "\n",
    "\n",
    "            metric_dfi=metric_df[metric_df[\"Row\"]==i].copy()\n",
    "            elo_dfi=elo_df[i].copy()\n",
    "\n",
    "            #remove winner from each metric and elo\n",
    "            metric_dfi = metric_dfi[metric_dfi['Model'] != winner]\n",
    "            elo_dfi = elo_dfi.drop(winner)\n",
    "\n",
    "            \n",
    "            elo_values = []\n",
    "            metric_values = []\n",
    "            for model in metric_dfi['Model']:\n",
    "               \n",
    "                elo_row_values = elo_dfi[model]\n",
    "              \n",
    "                metric_value = metric_dfi[metric_dfi['Model'] == model]['F1'].values[0]\n",
    "                \n",
    "                elo_values.append(elo_row_values)\n",
    "                metric_values.append(metric_value)\n",
    "         \n",
    "            # Calculate Spearman correlation\n",
    "\n",
    "\n",
    "            S_c =spearmanr(elo_values, metric_values).correlation\n",
    "            if S_c is None or np.isnan(S_c):\n",
    "                S_c = 0\n",
    "        \n",
    "            spearman_correlation.append(S_c)\n",
    "\n",
    "            spearman_sentence[i]=S_c\n",
    "        \n",
    "        spearman_sentence_metrics[metric]=spearman_sentence   \n",
    "        spearman_correlations[metric] = np.mean(spearman_correlation)\n",
    "    # Determine which metric is closer to ELO rankings based on Spearman correlation\n",
    "    closer_metric = max(spearman_correlations, key=spearman_correlations.get)\n",
    "\n",
    "    return spearman_correlations, closer_metric, spearman_sentence_metrics\n"
   ]
  },
  {
   "cell_type": "code",
   "execution_count": 78,
   "id": "d1294c84",
   "metadata": {},
   "outputs": [],
   "source": [
    "names = [\"Aadarsh_annotation.json\",\"Ashlin_annotation.json\",\"Kuldeep_annotation.json\",\"Maryam_annotation.json\",\"Nate_annotation.json\",\"Riley_annotation.json\",\"Spencer_update_annotation.json\",\"llama2.json\",\"llama3.json\",\"mistral.json\"]\n",
    "path= \"/Users/spencerdork/Documents/College/TwoSix Research/Elo/fine_tune-millika6-main-patch-42396/comparison_ui/assets/\"\n",
    "ann_dict = {}\n",
    "for i in names:\n",
    "    # read json starting with the names and ending with _elo.json\n",
    "    filename =path + i\n",
    "    with open(filename) as f:\n",
    "        data = json.load(f)\n",
    "    name = i.split('_')[0].replace(\".json\", \"\")\n",
    "    ann_dict[name] = data\n",
    "\n",
    "elo =pd.read_csv(\"/Users/spencerdork/Documents/College/TwoSix Research/Elo/fine_tune-riggsash-main-patch-64412-elo_comparison/elo_comparison/final_elo_rankings.csv\")\n",
    "\n",
    "#find explicit rankings for each model\n",
    "\n",
    "gold_standard =[]\n",
    "winners_to_remove = []\n",
    "\n",
    "# Assuming elo is defined and contains the necessary data\n",
    "for i in range(len(elo)):\n",
    "    row = elo.iloc[i]\n",
    "    winner = row['winner']\n",
    "    gold_standard.append(ann_dict[winner][i])\n",
    "\n",
    "    winners_to_remove.append((winner,ann_dict[winner][i]))\n",
    "\n",
    "\n",
    "\n",
    "\n",
    "elo_T= elo.drop(columns=[\"sentence_start\",'winner']).transpose()\n",
    "filenames = {}\n",
    "for key, val in ann_dict.items():\n",
    "    #make a variable for each model as the train and atatch a train and generated fromthe gold standard\n",
    "    train = val\n",
    "    generated = gold_standard\n",
    "    data = {\"train\":train,\"generated\":generated}\n",
    "    # dump into json and save list of variable names to use\n",
    "    with open(f\"{key}_elo_full.json\", \"w\") as f:\n",
    "        json.dump(data, f)\n",
    "    # save file name in list\n",
    "    filenames[key]=f\"{key}_elo_full.json\""
   ]
  },
  {
   "cell_type": "code",
   "execution_count": 52,
   "id": "702f4b92",
   "metadata": {},
   "outputs": [
    {
     "name": "stdout",
     "output_type": "stream",
     "text": [
      "Best thresholds: {'bleurt': -0.7, 'bleu': 0.2, 'meteor': 0.005, 'rouge': 0.5, 'verbatim': 0.5}\n"
     ]
    }
   ],
   "source": [
    "metrics = ['bleurt','bleu','meteor', 'rouge','verbatim']\n",
    "threshold_sets = [{'bleurt': -.05, 'bleu': .005, 'meteor': .005, 'rouge':.1,'verbatim': 0.5},{'bleurt': -.1, 'bleu': 0.01, 'meteor': .01, 'rouge':0.1,'verbatim': 0.5},{'bleurt': -.1, 'bleu': 0.02, 'meteor': .1, 'rouge':0.1,'verbatim': 0.5},{'bleurt': -.3, 'bleu': 0.07, 'meteor': 0.25,'rouge':0.3, 'verbatim': 0.5},{'bleurt': -.7, 'bleu': 0.07, 'meteor': 0.4,'rouge':0.5, 'verbatim': 0.5},{'bleurt': -1, 'bleu': 0.2, 'meteor': 0.5, 'rouge':0.75,'verbatim': 0.5},{'bleurt': -1.1, 'bleu': 0.2, 'meteor': 0.5, 'rouge':0.75,'verbatim': 0.5}]\n",
    "best_thresholds = {}\n",
    "\n",
    "for metric in metrics:\n",
    "    max_spearman = float('-inf')  # Initialize with negative infinity\n",
    "    best_threshold = None\n",
    "    for thresholds in threshold_sets:\n",
    "        scoring = ScoreCalculator(filenames, [metric], thresholds)\n",
    "        scores_df, detail = scoring.calculate_scores()\n",
    "        spearman_correlation, _, _ = compare_metrics_elo(elo_T, detail)\n",
    "        if spearman_correlation[metric] > max_spearman:\n",
    "            max_spearman = spearman_correlation[metric]\n",
    "            best_threshold = thresholds[metric]\n",
    "    best_thresholds[metric] = best_threshold\n",
    "\n",
    "print(\"Best thresholds:\", best_thresholds)\n"
   ]
  },
  {
   "cell_type": "code",
   "execution_count": 53,
   "id": "9721b5e7",
   "metadata": {},
   "outputs": [
    {
     "name": "stdout",
     "output_type": "stream",
     "text": [
      "Spearman Correlation: {'bleurt': 0.1515212356646494, 'bleu': 0.10930095519029288, 'meteor': 0.12633609967541587, 'rouge': 0.12413510778939112, 'verbatim': 0.015975241260567347}\n",
      "Closer metric: bleurt\n",
      "Spearman Sentence Metrics: {'bleurt': {0: -0.22821773229381923, 1: 0.13693063937629152, 2: 0, 3: 0.0, 4: 0.5477225575051661, 5: 0, 6: 0.3651483716701107, 7: 0.5249007842757842, 8: 0, 9: 0.45643546458763845, 10: -0.6210590034081188, 11: 0.47925723781702034, 12: 0, 13: 0.0, 14: 0.41079191812887456, 15: 0.27386127875258304, 16: 0, 17: 0.41079191812887456, 18: 0, 19: 0.27386127875258304}, 'bleu': {0: -0.18257418583505536, 1: 0.13693063937629152, 2: -0.38797014489949266, 3: 0.0, 4: 0.47925723781702034, 5: 0, 6: 0.3651483716701107, 7: 0.5020790110464023, 8: 0, 9: 0.45643546458763845, 10: -0.6210590034081188, 11: 0.47925723781702034, 12: 0, 13: 0.0, 14: 0.41079191812887456, 15: 0.27386127875258304, 16: -0.41079191812887456, 17: 0.41079191812887456, 18: 0, 19: 0.27386127875258304}, 'meteor': {0: -0.18257418583505536, 1: 0.13693063937629152, 2: -0.38797014489949266, 3: 0.0, 4: 0.5477225575051661, 5: 0, 6: 0.3651483716701107, 7: 0.5020790110464023, 8: 0, 9: 0.45643546458763845, 10: -0.6210590034081188, 11: 0.5477225575051661, 12: 0, 13: -0.20701966780270628, 14: 0.41079191812887456, 15: 0.27386127875258304, 16: 0, 17: 0.41079191812887456, 18: 0, 19: 0.27386127875258304}, 'rouge': {0: -0.18257418583505536, 1: 0.13693063937629152, 2: -0.38797014489949266, 3: 0.0, 4: 0.47925723781702034, 5: 0, 6: 0.25103950552320115, 7: 0.5020790110464023, 8: 0, 9: 0.45643546458763845, 10: -0.6210590034081188, 11: 0.47925723781702034, 12: 0, 13: 0.0, 14: 0.41079191812887456, 15: 0.27386127875258304, 16: 0, 17: 0.41079191812887456, 18: 0, 19: 0.27386127875258304}, 'verbatim': {0: 0.0, 1: 0, 2: 0, 3: 0, 4: 0, 5: 0, 6: -0.13693063937629152, 7: 0.27386127875258304, 8: 0, 9: 0.45643546458763845, 10: -0.5477225575051661, 11: 0, 12: 0, 13: 0, 14: 0, 15: 0.27386127875258304, 16: 0, 17: 0, 18: 0, 19: 0}}\n"
     ]
    }
   ],
   "source": [
    "metrics = ['bleurt','bleu','meteor', 'rouge','verbatim']\n",
    "scoring = ScoreCalculator(filenames, metrics, best_thresholds)\n",
    "scores_df, detail = scoring.calculate_scores()\n",
    "spearman_correlation, closer_metric, spearman_sentence_metrics = compare_metrics_elo(elo_T, detail)\n",
    "print(\"Spearman Correlation:\", spearman_correlation)\n",
    "print(\"Closer metric:\", closer_metric)\n",
    "print(\"Spearman Sentence Metrics:\", spearman_sentence_metrics)\n"
   ]
  },
  {
   "cell_type": "code",
   "execution_count": 54,
   "id": "2f4c5c30",
   "metadata": {},
   "outputs": [],
   "source": [
    "with open('spearman_sentence_metrics.json', 'w') as json_file:\n",
    "    json.dump(spearman_sentence_metrics, json_file)"
   ]
  },
  {
   "cell_type": "code",
   "execution_count": 79,
   "id": "b43e5f7d",
   "metadata": {},
   "outputs": [
    {
     "name": "stdout",
     "output_type": "stream",
     "text": [
      "          Model   F1_bleu  F1_bleurt  F1_meteor  F1_rouge  F1_verbatim\n",
      "0   llama2-test  0.446769   0.478401   0.452211  0.380952     0.137500\n",
      "1    llama2-val  0.408839   0.408165   0.479015  0.373752     0.146997\n",
      "2   llama3-test  0.289467   0.329944   0.347613  0.239806     0.060386\n",
      "3    llama3-val  0.408801   0.426759   0.464746  0.355073     0.113886\n",
      "4  mistral-test  0.461083   0.483248   0.556207  0.453741     0.135502\n",
      "5   mistral-val  0.488826   0.600919   0.561195  0.416458     0.132414\n"
     ]
    }
   ],
   "source": [
    "p =\"/Users/spencerdork/Documents/College/TwoSix Research/\"\n",
    "filenames = {\"llama2-test\":p+\"llama-2_final_outputs/test_output.csv\",\"llama2-val\":p+\"llama-2_final_outputs/val_output.csv\",\"llama3-test\":p+\"llama3_8b_final_outputs/llama3_test_predictions.csv\",\"llama3-val\":p+\"llama3_8b_final_outputs/llama3_val_predictions.csv\",\"mistral-test\":p+\"mistral_7b_final_outputs/test_output.csv\",\"mistral-val\":p+\"mistral_7b_final_outputs/val_output.csv\"}\n",
    "\n",
    "\n",
    "metrics = ['bleurt','bleu','meteor', 'rouge','verbatim']\n",
    "scoring = ScoreCalculator(filenames, metrics, best_thresholds)\n",
    "scores_df_tuned, detail_tuned = scoring.calculate_scores()\n",
    "print(scores_df_tuned)\n",
    "\n"
   ]
  },
  {
   "cell_type": "code",
   "execution_count": 68,
   "id": "764a3da4",
   "metadata": {},
   "outputs": [
    {
     "name": "stdout",
     "output_type": "stream",
     "text": [
      "              Model   F1_bleu  F1_bleurt  F1_meteor  F1_rouge  F1_verbatim\n",
      "0   pre-llama2-test  0.066480   0.086860   0.089210  0.033147     0.000000\n",
      "1    pre-llama2-val  0.161007   0.153906   0.204240  0.098768     0.000000\n",
      "2   pre-llama3-test  0.185417   0.210247   0.225198  0.102381     0.004464\n",
      "3    pre-llama3-val  0.180985   0.169665   0.277768  0.139631     0.012146\n",
      "4  pre-mistral-test  0.168313   0.174464   0.232684  0.127639     0.024490\n",
      "5   pre-mistral-val  0.207916   0.343609   0.322536  0.197013     0.000000\n"
     ]
    }
   ],
   "source": [
    "best_thresholds={'bleurt': -0.7, 'bleu': 0.2, 'meteor': 0.005, 'rouge': 0.5, 'verbatim': 0.5}\n",
    "metrics  =['bleurt','bleu','meteor', 'rouge','verbatim']\n",
    "filenames = {\"pre-llama2-test\":p+\"pre-llama2/test_output_llama2.csv\",\"pre-llama2-val\":p+\"pre-llama2/val_output_llama2.csv\",\"pre-llama3-test\":p+\"pre-llama3/llama3_test_predictions.csv\",\"pre-llama3-val\":p+\"pre-llama3/llama3_val_predictions.csv\",\"pre-mistral-test\":p+\"pre-mistral/test_output_mistral.csv\",\"pre-mistral-val\":p+\"pre-mistral/val_output_mistral.csv\"}\n",
    "scoring = ScoreCalculator(filenames, metrics, best_thresholds)\n",
    "scores_df, detail = scoring.calculate_scores()\n",
    "print(scores_df)\n"
   ]
  },
  {
   "cell_type": "code",
   "execution_count": 110,
   "id": "e7809b57",
   "metadata": {},
   "outputs": [
    {
     "data": {
      "image/png": "[encoded data removed]",
      "text/plain": [
       "<Figure size 1200x800 with 1 Axes>"
      ]
     },
     "metadata": {},
     "output_type": "display_data"
    },
    {
     "data": {
      "image/png": "[encoded data removed]",
      "text/plain": [
       "<Figure size 1200x800 with 1 Axes>"
      ]
     },
     "metadata": {},
     "output_type": "display_data"
    }
   ],
   "source": [
    "# makea bar plot for pre vs post fine tuning for test and val bar chart colored by model for bleurt use scores_df\n",
    "\n",
    "import matplotlib.pyplot as plt\n",
    "import pandas as pd\n",
    "import seaborn as sns\n",
    "\n",
    "#set teh color pallete\n",
    "sns.set(style=\"darkgrid\")\n",
    "sns.set_palette(\"Paired\")\n",
    "# sns.set(style=\"darkgrid\")\n",
    "# Provided dataset\n",
    "\n",
    "\n",
    "df = pd.DataFrame(data)\n",
    "\n",
    "# Separate pre and post fine-tuning data\n",
    "pre_df = scores_df\n",
    "post_df = scores_df_tuned\n",
    "\n",
    "# Function to plot the grouped bar chart\n",
    "def plot_grouped_bars_single_metric(pre_df, post_df, dataset_type, metric):\n",
    "    labels = pre_df['Model'].str.split('-').str[1].unique()\n",
    "    \n",
    "    x = range(len(labels))\n",
    "    width = 0.35\n",
    "\n",
    "    fig, ax = plt.subplots(figsize=(12, 8))\n",
    "\n",
    "    pre_scores = pre_df[pre_df['Model'].str.contains(dataset_type)][metric].values\n",
    "    post_scores = post_df[post_df['Model'].str.contains(dataset_type)][metric].values\n",
    "\n",
    "    ax.bar([p - width/2 for p in x], pre_scores, width, label=f'Base BLEURT-F1',alpha=0.85)\n",
    "    ax.bar([p + width/2 for p in x], post_scores, width, label=f'Fine Tuned BLEURT-F1',alpha=0.85)\n",
    "\n",
    "    ax.set_xlabel('Models')\n",
    "    ax.set_title(f'{dataset_type.capitalize()} F1 Scores Comparison for BLEURT')\n",
    "    ax.set_xticks(x)\n",
    "    ax.set_xticklabels(labels)\n",
    "    ax.set_ylabel('F1 Score')\n",
    "    #make the legend and text bigger\n",
    "    ax.legend(fontsize=16)\n",
    "    plt.show()\n",
    "\n",
    "# Plot for validation\n",
    "plot_grouped_bars_single_metric(pre_df, post_df, 'val', 'F1_bleurt')\n",
    "\n",
    "# Plot for testing\n",
    "plot_grouped_bars_single_metric(pre_df, post_df, 'test', 'F1_bleurt')"
   ]
  },
  {
   "cell_type": "markdown",
   "id": "902509fb",
   "metadata": {},
   "source": []
  },
  {
   "cell_type": "code",
   "execution_count": null,
   "id": "44d988b3",
   "metadata": {},
   "outputs": [],
   "source": []
  }
 ],
 "metadata": {
  "kernelspec": {
   "display_name": "Python 3 (ipykernel)",
   "language": "python",
   "name": "python3"
  },
  "language_info": {
   "codemirror_mode": {
    "name": "ipython",
    "version": 3
   },
   "file_extension": ".py",
   "mimetype": "text/x-python",
   "name": "python",
   "nbconvert_exporter": "python",
   "pygments_lexer": "ipython3",
   "version": "3.10.8"
  }
 },
 "nbformat": 4,
 "nbformat_minor": 5
}
