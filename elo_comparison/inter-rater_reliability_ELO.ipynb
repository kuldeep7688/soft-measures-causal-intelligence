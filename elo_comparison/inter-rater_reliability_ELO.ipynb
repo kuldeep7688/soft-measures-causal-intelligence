{
 "cells": [
  {
   "cell_type": "markdown",
   "id": "be4fc567",
   "metadata": {},
   "source": [
    "### Import everything"
   ]
  },
  {
   "cell_type": "code",
   "execution_count": 1,
   "id": "98cd38a6",
   "metadata": {},
   "outputs": [],
   "source": [
    "import json\n",
    "import pandas as pd"
   ]
  },
  {
   "cell_type": "markdown",
   "id": "78eb40f5",
   "metadata": {},
   "source": [
    "### Read in JSONS"
   ]
  },
  {
   "cell_type": "code",
   "execution_count": 2,
   "id": "1de7f9dc",
   "metadata": {},
   "outputs": [],
   "source": [
    "def read_json_files(file_names):\n",
    "    data = []\n",
    "    for file_name in file_names:\n",
    "        with open(file_name, 'r') as file:\n",
    "            data.append(json.load(file))\n",
    "    return data\n",
    "\n",
    "# read everyone's files\n",
    "file_names = [\"comparison_jsons/rater/h1_rater.json\", \n",
    "              \"comparison_jsons/rater/h6_rater.json\", \"comparison_jsons/rater/h7_rater.json\", \"comparison_jsons/rater/h5_rater.json\", \n",
    "              \"comparison_jsons/rater/h4_rater.json\", \"comparison_jsons/rater/h3_rater.json\", \"comparison_jsons/rater/h2_rater.json\"]\n",
    "data = read_json_files(file_names)"
   ]
  },
  {
   "cell_type": "markdown",
   "id": "fcb3f7e0",
   "metadata": {},
   "source": [
    "### Separate all twenty sample sentences into separate DFs"
   ]
  },
  {
   "cell_type": "code",
   "execution_count": 3,
   "id": "8e009aee",
   "metadata": {},
   "outputs": [],
   "source": [
    "# labelers\n",
    "labelers = ['llama2', 'llama3', 'mistral']\n",
    "\n",
    "# sentences and IDs: this was the way I wanted to do it\n",
    "sample_sentences = {\n",
    "    1: \"It is expected that both ecological and social compensation measures improve the overall acceptance of a local infrastructure, thus anchoring the latter within the surrounding community.\",\n",
    "    2: \"The prompt acceleration of food aid pledges and deliveries once the media story on the famine broke, even though the worst of the crisis was over by then, and the poorer response to non-food emergency needs, which received less press attention, lends weight to another familiar hypothesis: that one of these non-humanitarian criteria is media pressure.\",\n",
    "    3: \"Some men were hesitant to assist with household chores because they believed it would create an expectation of ongoing involvement with chores after pregnancy.\",\n",
    "    4: \"Pastoralists in the arid and semi-arid regions of Mali continue to face increasing risk due to low levels of rainfall.\",\n",
    "    5: \"The recent investment in improving existing roads that connect administrative centres to regional capitals, combined with the advance in use of mobile phone communications, have facilitated the development of new and efficient cereal trade routes and reduced marketing margins.\",\n",
    "    6: \"Wind turbine foundations may act as artificial reefs, which could increase both the number of shellfish and the animals that feed on them, including other fish and marine mammals.\",\n",
    "    7: \"However, wars have been waged to reduce demographic pressures arising from the scarcity of arable land, the clearest example being the move to acquire Lebensraum (living space) that motivated Nazi Germany aggression toward Poland and Eastern Europe.\",\n",
    "    8: \"The direct and indirect effects from offshore wind farm development have been less well documented, but they include similar risks to bird and bat collisions; disruption of marine mammal corridors as well as harm to marine mammals, fish, and sea turtles from construction of bottom-mounted turbine towers; the potential for scour and sediment resuspension around the foundations of bottom-mounted wind turbines; and some evidence of displacement or barrier effects because of the presence of large offshore wind farms.\",\n",
    "    9: \"The study shows that the cultivation of crops, a critical aspect of food security, is gravely under threat given low cultivation of crops as a result of BH atrocities.\",\n",
    "    10: \"Various sources attest that elevated mortality stemming from conflict is due more to population displacement, deficiencies of clean water and sanitation, exposure to disease, and public-health failures rather than to direct blows from violence.\",\n",
    "    11: \"Civilians may also expand agricultural production due to cuts in a stable food supply.\",\n",
    "    12: \"The failure of programmes to reintegrate people into production implemented in the 1990s within the framework of the implementation of the 1992 Peace Accords forced many former combatants to resort to criminal and antisocial behaviour. As we have pointed out elsewhere (1996), the failure of these programmes has to do with the fact that in spite of the majority of them targeting farming, the serious structural crisis the agricultural sector was undergoing was underestimated in their design and implementation.\",\n",
    "    13: \"On the supply side, both Huthi/Saleh forces and the Hadi government and its Saudi-led coalition allies repeatedly have hindered the movement of aid and commercial goods to the population. Huthi/Saleh violations are most egregious in the city of Taiz, where their fighters have enforced a full or partial blockade since 2015, with devastating humanitarian consequences. They routinely interfere with the work of humanitarians, at times demanding the diversion of aid to themselves or denying aid workers access to populations in need, revoking visas or even detaining them. They heavily tax all imports into their areas in part to finance the war effort and also run a black market in fuel, enriching military elites while driving prices up for transport of vital commodities.\",\n",
    "    14: \"Increased grievances against the state, when agricultural deficits at the state level result in losses of tax revenues and higher food prices.\",\n",
    "    15: \"Borrowing food was observed to be the first step to mitigate the adverse effect of food insecurity at the household level in Yemen.\",\n",
    "    16: \"ASHA must tell the woman during pregnancy so that the woman must have that information with her. So, as soon as the child takes birth he/she will be fed with colostrum which will prevent the child from diseases.\",\n",
    "    17: \"For me, when I got married and my wife was pregnant, I registered her in general hospital, and also in a traditional Centre. Because my understanding is that, there are medications in the hospital and also another type of medications from the traditional.\",\n",
    "    18: \"Even, we do not want to be uncovered so that our private parts do not be seen.\",\n",
    "    19: \"The use of contraception was linked vicariously to promiscuity: Promiscuous women were linked to the use of contraception, multiple abortions and disease or infections.\",\n",
    "    20: \"I had vaginal discharge four months ago and I used a traditional medicine it stopped.\"\n",
    "}\n",
    "\n",
    "# separate data for each sample sentence\n",
    "sentence_data = {sentence_id: [] for sentence_id in sample_sentences.keys()}\n",
    "\n",
    "for file_data in data:\n",
    "    for key, value in file_data.items(): \n",
    "        sentence_text, labelers_pair, sentence_id, winner = value\n",
    "        if sentence_id in sample_sentences.keys():\n",
    "            sentence_data[sentence_id].append(value)"
   ]
  },
  {
   "cell_type": "code",
   "execution_count": 4,
   "id": "e3f58300",
   "metadata": {},
   "outputs": [
    {
     "data": {
      "text/plain": [
       "[['It is expected that both ecological and social compensation measures improve the overall acceptance of a local infrastructure, thus anchoring the latter within the surrounding community.',\n",
       "  ['mistral', 'llama3'],\n",
       "  1,\n",
       "  'llama3'],\n",
       " ['It is expected that both ecological and social compensation measures improve the overall acceptance of a local infrastructure, thus anchoring the latter within the surrounding community.',\n",
       "  ['llama2', 'llama3'],\n",
       "  1,\n",
       "  'llama3'],\n",
       " ['It is expected that both ecological and social compensation measures improve the overall acceptance of a local infrastructure, thus anchoring the latter within the surrounding community.',\n",
       "  ['llama2', 'mistral'],\n",
       "  1,\n",
       "  'mistral'],\n",
       " ['It is expected that both ecological and social compensation measures improve the overall acceptance of a local infrastructure, thus anchoring the latter within the surrounding community.',\n",
       "  ['mistral', 'llama3'],\n",
       "  1,\n",
       "  'mistral'],\n",
       " ['It is expected that both ecological and social compensation measures improve the overall acceptance of a local infrastructure, thus anchoring the latter within the surrounding community.',\n",
       "  ['llama2', 'llama3'],\n",
       "  1,\n",
       "  'llama3'],\n",
       " ['It is expected that both ecological and social compensation measures improve the overall acceptance of a local infrastructure, thus anchoring the latter within the surrounding community.',\n",
       "  ['llama2', 'mistral'],\n",
       "  1,\n",
       "  'mistral'],\n",
       " ['It is expected that both ecological and social compensation measures improve the overall acceptance of a local infrastructure, thus anchoring the latter within the surrounding community.',\n",
       "  ['mistral', 'llama3'],\n",
       "  1,\n",
       "  'llama3'],\n",
       " ['It is expected that both ecological and social compensation measures improve the overall acceptance of a local infrastructure, thus anchoring the latter within the surrounding community.',\n",
       "  ['llama2', 'llama3'],\n",
       "  1,\n",
       "  'llama3'],\n",
       " ['It is expected that both ecological and social compensation measures improve the overall acceptance of a local infrastructure, thus anchoring the latter within the surrounding community.',\n",
       "  ['llama2', 'mistral'],\n",
       "  1,\n",
       "  'mistral'],\n",
       " ['It is expected that both ecological and social compensation measures improve the overall acceptance of a local infrastructure, thus anchoring the latter within the surrounding community.',\n",
       "  ['mistral', 'llama3'],\n",
       "  1,\n",
       "  'llama3'],\n",
       " ['It is expected that both ecological and social compensation measures improve the overall acceptance of a local infrastructure, thus anchoring the latter within the surrounding community.',\n",
       "  ['llama2', 'llama3'],\n",
       "  1,\n",
       "  'llama3'],\n",
       " ['It is expected that both ecological and social compensation measures improve the overall acceptance of a local infrastructure, thus anchoring the latter within the surrounding community.',\n",
       "  ['llama2', 'mistral'],\n",
       "  1,\n",
       "  'mistral'],\n",
       " ['It is expected that both ecological and social compensation measures improve the overall acceptance of a local infrastructure, thus anchoring the latter within the surrounding community.',\n",
       "  ['mistral', 'llama3'],\n",
       "  1,\n",
       "  'llama3'],\n",
       " ['It is expected that both ecological and social compensation measures improve the overall acceptance of a local infrastructure, thus anchoring the latter within the surrounding community.',\n",
       "  ['llama2', 'llama3'],\n",
       "  1,\n",
       "  'llama3'],\n",
       " ['It is expected that both ecological and social compensation measures improve the overall acceptance of a local infrastructure, thus anchoring the latter within the surrounding community.',\n",
       "  ['llama2', 'mistral'],\n",
       "  1,\n",
       "  'mistral'],\n",
       " ['It is expected that both ecological and social compensation measures improve the overall acceptance of a local infrastructure, thus anchoring the latter within the surrounding community.',\n",
       "  ['mistral', 'llama3'],\n",
       "  1,\n",
       "  'llama3'],\n",
       " ['It is expected that both ecological and social compensation measures improve the overall acceptance of a local infrastructure, thus anchoring the latter within the surrounding community.',\n",
       "  ['llama2', 'llama3'],\n",
       "  1,\n",
       "  'llama3'],\n",
       " ['It is expected that both ecological and social compensation measures improve the overall acceptance of a local infrastructure, thus anchoring the latter within the surrounding community.',\n",
       "  ['llama2', 'mistral'],\n",
       "  1,\n",
       "  'mistral'],\n",
       " ['It is expected that both ecological and social compensation measures improve the overall acceptance of a local infrastructure, thus anchoring the latter within the surrounding community.',\n",
       "  ['mistral', 'llama3'],\n",
       "  1,\n",
       "  'llama3'],\n",
       " ['It is expected that both ecological and social compensation measures improve the overall acceptance of a local infrastructure, thus anchoring the latter within the surrounding community.',\n",
       "  ['llama2', 'llama3'],\n",
       "  1,\n",
       "  'llama3'],\n",
       " ['It is expected that both ecological and social compensation measures improve the overall acceptance of a local infrastructure, thus anchoring the latter within the surrounding community.',\n",
       "  ['llama2', 'mistral'],\n",
       "  1,\n",
       "  'mistral']]"
      ]
     },
     "execution_count": 4,
     "metadata": {},
     "output_type": "execute_result"
    }
   ],
   "source": [
    "# demonstrate that 1: contains all of the instances of sentence 1 from all files\n",
    "sentence_data[1]"
   ]
  },
  {
   "cell_type": "markdown",
   "id": "a8649089",
   "metadata": {},
   "source": [
    "### Perform ELO for each of the twenty sentences' dfs to determine ground truth"
   ]
  },
  {
   "cell_type": "code",
   "execution_count": 5,
   "id": "bc13459e",
   "metadata": {},
   "outputs": [],
   "source": [
    "def update_elo(winner_elo, loser_elo, k=32):\n",
    "    expected_winner = 1 / (1 + 10 ** ((loser_elo - winner_elo) / 400))\n",
    "    expected_loser = 1 - expected_winner\n",
    "    winner_elo += k * (1 - expected_winner)\n",
    "    loser_elo += k * (0 - expected_loser)\n",
    "    return winner_elo, loser_elo\n",
    "\n",
    "def calculate_elo_for_sentence(sentence_id, comparisons):\n",
    "    elo_ratings = {labeler: 1000 for labeler in labelers}\n",
    "    \n",
    "    # process comparisons for this sentence ID\n",
    "    for value in comparisons:\n",
    "        sentence, labelers_pair, _, winner = value\n",
    "        if winner != \"Tie\":\n",
    "            loser = labelers_pair[1] if winner == labelers_pair[0] else labelers_pair[0]\n",
    "            elo_ratings[winner], elo_ratings[loser] = update_elo(elo_ratings[winner], elo_ratings[loser])\n",
    "    \n",
    "    # prepare data for DataFrame\n",
    "    elo_df_data = {'sentence_start': [sample_sentences[sentence_id]]}\n",
    "    for labeler in labelers:\n",
    "        elo_df_data[labeler] = [elo_ratings[labeler]]\n",
    "    elo_df_data['winner'] = [max(elo_ratings, key=elo_ratings.get)]\n",
    "    \n",
    "    return pd.DataFrame(elo_df_data)  # return DF of the scores/winners for each sentence"
   ]
  },
  {
   "cell_type": "code",
   "execution_count": 6,
   "id": "09d2455d",
   "metadata": {},
   "outputs": [],
   "source": [
    "# elo calculations for all 20 sentences\n",
    "sentence_dfs = []\n",
    "for sentence_id, comparisons in sentence_data.items():\n",
    "    sentence_dfs.append(calculate_elo_for_sentence(sentence_id, comparisons))\n",
    "\n",
    "# concatenate DFs\n",
    "final_df = pd.concat(sentence_dfs, ignore_index=True)\n",
    "final_df.index = range(1, len(final_df) + 1)\n",
    "final_df.index.name = 'sentence ID'"
   ]
  },
  {
   "cell_type": "markdown",
   "id": "e0ab467b",
   "metadata": {},
   "source": [
    "### Display results"
   ]
  },
  {
   "cell_type": "code",
   "execution_count": 7,
   "id": "ef1ff75b",
   "metadata": {},
   "outputs": [
    {
     "name": "stdout",
     "output_type": "stream",
     "text": [
      "                  llama2       llama3      mistral   winner\n",
      "sentence ID                                                \n",
      "1             847.005759  1136.727072  1016.267169   llama3\n",
      "2            1057.621378   874.115747  1068.262875  mistral\n",
      "3            1135.337324   978.800973   885.861704   llama2\n",
      "4            1074.649797   847.930456  1077.419747  mistral\n",
      "5             847.180520  1054.258560  1098.560919  mistral\n",
      "6             993.412173   977.986432  1028.601394  mistral\n",
      "7             983.510389   957.814727  1058.674885  mistral\n",
      "8            1091.961463   999.485521   908.553016   llama2\n",
      "9            1052.263826   897.463453  1050.272721   llama2\n",
      "10            930.815730  1152.210822   916.973449   llama3\n",
      "11           1042.591624   848.693039  1108.715336  mistral\n",
      "12            875.889197   997.281406  1126.829397  mistral\n",
      "13            886.990430  1074.042002  1038.967569   llama3\n",
      "14            943.346048  1033.134058  1023.519894   llama3\n",
      "15           1074.649797   847.930456  1077.419747  mistral\n",
      "16            898.267829   949.528168  1152.204003  mistral\n",
      "17            967.767556  1075.875703   956.356741   llama3\n",
      "18           1083.906717   854.586493  1061.506790   llama2\n",
      "19            939.709258  1152.149073   908.141669   llama3\n",
      "20           1070.428435   911.563451  1018.008114   llama2\n"
     ]
    }
   ],
   "source": [
    "# Display the final DataFrame\n",
    "pd.set_option('display.max_columns', None)\n",
    "pd.set_option('display.width', None)\n",
    "pd.set_option('display.max_colwidth', None)\n",
    "print(final_df.iloc[:,1:])  # ignore sentence column"
   ]
  },
  {
   "cell_type": "markdown",
   "id": "fb25fa72",
   "metadata": {},
   "source": [
    "### Save as a csv"
   ]
  },
  {
   "cell_type": "code",
   "execution_count": 8,
   "id": "262a8b2e",
   "metadata": {},
   "outputs": [],
   "source": [
    "# Save the final DataFrame to a CSV file\n",
    "final_df.to_csv('inter-rater_reliability_elo_rankings.csv', index=False)"
   ]
  },
  {
   "cell_type": "code",
   "execution_count": null,
   "id": "02b09f4f",
   "metadata": {},
   "outputs": [],
   "source": []
  }
 ],
 "metadata": {
  "kernelspec": {
   "display_name": "Python 3 (ipykernel)",
   "language": "python",
   "name": "python3"
  },
  "language_info": {
   "codemirror_mode": {
    "name": "ipython",
    "version": 3
   },
   "file_extension": ".py",
   "mimetype": "text/x-python",
   "name": "python",
   "nbconvert_exporter": "python",
   "pygments_lexer": "ipython3",
   "version": "3.10.9"
  }
 },
 "nbformat": 4,
 "nbformat_minor": 5
}
