{
 "cells": [
  {
   "cell_type": "code",
   "execution_count": 1,
   "id": "16efe3a0",
   "metadata": {},
   "outputs": [
    {
     "name": "stdout",
     "output_type": "stream",
     "text": [
      "Replacement completed.\n"
     ]
    }
   ],
   "source": [
    "import json\n",
    "import os\n",
    "\n",
    "# List of file names\n",
    "file_names = [f'h{i}_rater.json' for i in range(1, 8)]\n",
    "\n",
    "# Mapping of names to be replaced\n",
    "replacements = {\n",
    "    \"Aadarsh\": \"Human1\",\n",
    "    \"Ashlin\": \"Human2\",\n",
    "    \"Kuldeep\": \"Human3\",\n",
    "    \"Maryam\": \"Human4\",\n",
    "    \"Nate\": \"Human5\",\n",
    "    \"Riley\": \"Human6\",\n",
    "    \"Spencer\": \"Human7\"\n",
    "}\n",
    "\n",
    "# Function to replace names in a given dictionary\n",
    "def replace_names(data, replacements):\n",
    "    if isinstance(data, dict):\n",
    "        return {key: replace_names(value, replacements) for key, value in data.items()}\n",
    "    elif isinstance(data, list):\n",
    "        return [replace_names(item, replacements) for item in data]\n",
    "    elif isinstance(data, str):\n",
    "        return replacements.get(data, data)\n",
    "    else:\n",
    "        return data\n",
    "\n",
    "# Read, replace, and save JSON files\n",
    "for file_name in file_names:\n",
    "    with open(file_name, 'r', encoding='utf-8') as file:\n",
    "        data = json.load(file)\n",
    "    \n",
    "    modified_data = replace_names(data, replacements)\n",
    "    \n",
    "    with open(file_name, 'w', encoding='utf-8') as file:\n",
    "        json.dump(modified_data, file, ensure_ascii=False, indent=4)\n",
    "\n",
    "print(\"Replacement completed.\")\n"
   ]
  }
 ],
 "metadata": {
  "kernelspec": {
   "display_name": "Python 3 (ipykernel)",
   "language": "python",
   "name": "python3"
  },
  "language_info": {
   "codemirror_mode": {
    "name": "ipython",
    "version": 3
   },
   "file_extension": ".py",
   "mimetype": "text/x-python",
   "name": "python",
   "nbconvert_exporter": "python",
   "pygments_lexer": "ipython3",
   "version": "3.10.9"
  }
 },
 "nbformat": 4,
 "nbformat_minor": 5
}
